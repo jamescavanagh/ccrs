{
 "cells": [
  {
   "cell_type": "code",
   "execution_count": 1,
   "metadata": {},
   "outputs": [],
   "source": [
    "import pandas  as pd"
   ]
  },
  {
   "cell_type": "code",
   "execution_count": 4,
   "metadata": {},
   "outputs": [],
   "source": [
    "df_notes =  pd.read_csv('../data/lesson_notes_2023_04_12',index_col=0)"
   ]
  },
  {
   "cell_type": "code",
   "execution_count": 6,
   "metadata": {},
   "outputs": [
    {
     "data": {
      "text/html": [
       "<div>\n",
       "<style scoped>\n",
       "    .dataframe tbody tr th:only-of-type {\n",
       "        vertical-align: middle;\n",
       "    }\n",
       "\n",
       "    .dataframe tbody tr th {\n",
       "        vertical-align: top;\n",
       "    }\n",
       "\n",
       "    .dataframe thead th {\n",
       "        text-align: right;\n",
       "    }\n",
       "</style>\n",
       "<table border=\"1\" class=\"dataframe\">\n",
       "  <thead>\n",
       "    <tr style=\"text-align: right;\">\n",
       "      <th></th>\n",
       "      <th>hanzi</th>\n",
       "      <th>full_text</th>\n",
       "      <th>note_type</th>\n",
       "      <th>date</th>\n",
       "    </tr>\n",
       "  </thead>\n",
       "  <tbody>\n",
       "    <tr>\n",
       "      <th>0</th>\n",
       "      <td>碎片时间</td>\n",
       "      <td>碎片时间 sui4 pian4 shi2 jian1</td>\n",
       "      <td>Vocab</td>\n",
       "      <td>2023 4 5</td>\n",
       "    </tr>\n",
       "    <tr>\n",
       "      <th>1</th>\n",
       "      <td>总结</td>\n",
       "      <td>总结 zong3 jie2</td>\n",
       "      <td>Vocab</td>\n",
       "      <td>2023 4 5</td>\n",
       "    </tr>\n",
       "    <tr>\n",
       "      <th>2</th>\n",
       "      <td>总结起来</td>\n",
       "      <td>总结起来 zong3 jie2 qi3 lai2</td>\n",
       "      <td>Vocab</td>\n",
       "      <td>2023 4 5</td>\n",
       "    </tr>\n",
       "    <tr>\n",
       "      <th>3</th>\n",
       "      <td>收藏家</td>\n",
       "      <td>收藏家 shou1 cang2 jia1</td>\n",
       "      <td>Vocab</td>\n",
       "      <td>2023 4 5</td>\n",
       "    </tr>\n",
       "    <tr>\n",
       "      <th>4</th>\n",
       "      <td>收藏</td>\n",
       "      <td>收藏 shou1 cang2</td>\n",
       "      <td>Vocab</td>\n",
       "      <td>2023 4 5</td>\n",
       "    </tr>\n",
       "  </tbody>\n",
       "</table>\n",
       "</div>"
      ],
      "text/plain": [
       "  hanzi                   full_text note_type      date\n",
       "0  碎片时间  碎片时间 sui4 pian4 shi2 jian1     Vocab  2023 4 5\n",
       "1    总结               总结 zong3 jie2     Vocab  2023 4 5\n",
       "2  总结起来    总结起来 zong3 jie2 qi3 lai2     Vocab  2023 4 5\n",
       "3   收藏家        收藏家 shou1 cang2 jia1     Vocab  2023 4 5\n",
       "4    收藏              收藏 shou1 cang2     Vocab  2023 4 5"
      ]
     },
     "execution_count": 6,
     "metadata": {},
     "output_type": "execute_result"
    }
   ],
   "source": [
    "df_notes.head()"
   ]
  },
  {
   "cell_type": "code",
   "execution_count": 7,
   "metadata": {},
   "outputs": [
    {
     "data": {
      "text/plain": [
       "Vocab       606\n",
       "English     153\n",
       "Sentence    121\n",
       "Phrase       62\n",
       "Name: note_type, dtype: int64"
      ]
     },
     "execution_count": 7,
     "metadata": {},
     "output_type": "execute_result"
    }
   ],
   "source": [
    "df_notes.note_type.value_counts()"
   ]
  },
  {
   "cell_type": "code",
   "execution_count": null,
   "metadata": {},
   "outputs": [],
   "source": [
    "df_"
   ]
  }
 ],
 "metadata": {
  "kernelspec": {
   "display_name": "ChineseAutomation",
   "language": "python",
   "name": "python3"
  },
  "language_info": {
   "codemirror_mode": {
    "name": "ipython",
    "version": 3
   },
   "file_extension": ".py",
   "mimetype": "text/x-python",
   "name": "python",
   "nbconvert_exporter": "python",
   "pygments_lexer": "ipython3",
   "version": "3.10.6"
  },
  "orig_nbformat": 4
 },
 "nbformat": 4,
 "nbformat_minor": 2
}
