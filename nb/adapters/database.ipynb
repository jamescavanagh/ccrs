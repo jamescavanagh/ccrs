{
 "cells": [
  {
   "cell_type": "code",
   "execution_count": 1,
   "metadata": {},
   "outputs": [],
   "source": [
    "import sqlite3\n",
    "from pathlib import Path"
   ]
  },
  {
   "cell_type": "code",
   "execution_count": 58,
   "metadata": {},
   "outputs": [],
   "source": [
    "conn = sqlite3.connect('../../db/ccrs.db')\n",
    "\n",
    "cursor = conn.cursor()"
   ]
  },
  {
   "cell_type": "code",
   "execution_count": 59,
   "metadata": {},
   "outputs": [
    {
     "data": {
      "text/plain": [
       "<sqlite3.Cursor at 0x7fcbe2b02940>"
      ]
     },
     "execution_count": 59,
     "metadata": {},
     "output_type": "execute_result"
    }
   ],
   "source": [
    "cursor.execute(\"SELECT name FROM sqlite_master WHERE type='table';\")"
   ]
  },
  {
   "cell_type": "code",
   "execution_count": 60,
   "metadata": {},
   "outputs": [],
   "source": [
    "table_names = [row[0] for row in cursor.fetchall()]"
   ]
  },
  {
   "cell_type": "code",
   "execution_count": 61,
   "metadata": {},
   "outputs": [
    {
     "name": "stdout",
     "output_type": "stream",
     "text": [
      "['notes', 'hanzi_components', 'hanzi_info', 'radicals', 'ce_dictionary', 'example_sentences', 'cedict_sentences', 'hanzi_cedict']\n"
     ]
    }
   ],
   "source": [
    "print(table_names)"
   ]
  },
  {
   "cell_type": "code",
   "execution_count": 35,
   "metadata": {},
   "outputs": [],
   "source": [
    "import sqlite3\n",
    "from typing import List, Tuple\n",
    "\n",
    "def get_table_schema(table_name: str) -> List[Tuple]:\n",
    "    conn = sqlite3.connect('../../db/ccrs.db')\n",
    "    cursor = conn.cursor()\n",
    "    query = f\"PRAGMA table_info({table_name})\"\n",
    "    cursor.execute(query)\n",
    "    result_set = cursor.fetchall()\n",
    "    conn.close()\n",
    "    return result_set\n"
   ]
  },
  {
   "attachments": {},
   "cell_type": "markdown",
   "metadata": {},
   "source": [
    "## Hanzi"
   ]
  },
  {
   "cell_type": "code",
   "execution_count": 15,
   "metadata": {},
   "outputs": [
    {
     "name": "stdout",
     "output_type": "stream",
     "text": [
      "(0, 'hanzi', 'TEXT', 0, None, 0)\n",
      "(1, 'raw_frequency', 'REAL', 0, None, 0)\n",
      "(2, 'pinyin', 'TEXT', 0, None, 0)\n",
      "(3, 'definition', 'TEXT', 0, None, 0)\n",
      "(4, 'stroke_count', 'TEXT', 0, None, 0)\n",
      "(5, 'hanzi_index', 'INTEGER', 0, None, 0)\n"
     ]
    }
   ],
   "source": [
    "\n",
    "query = f\"PRAGMA table_info({table_name})\"\n",
    "result_set = conn.execute(query)\n",
    "for row in result_set:\n",
    "    print(row)\n"
   ]
  },
  {
   "cell_type": "code",
   "execution_count": 143,
   "metadata": {},
   "outputs": [],
   "source": [
    "class Hanzi:\n",
    "    def __init__(self, hanzi: str, raw_frequency: float, pinyin: str, definition: str, stroke_count: int, hanzi_index: int):\n",
    "        self.hanzi = hanzi\n",
    "        self.raw_frequency = raw_frequency\n",
    "        self.pinyin = pinyin\n",
    "        self.definition = definition\n",
    "        self.stroke_count = stroke_count\n",
    "        self.hanzi_index = hanzi_index"
   ]
  },
  {
   "cell_type": "code",
   "execution_count": 144,
   "metadata": {},
   "outputs": [],
   "source": [
    "\n",
    "from typing import Union, List\n",
    "\n",
    "def get_hanzi_by_index(conn: sqlite3.Connection, hanzi_index: Union[int, List[int]]) -> Union[Hanzi, List[Hanzi]]:\n",
    "    cursor = conn.cursor()\n",
    "    if isinstance(hanzi_index, int):\n",
    "        cursor.execute(f\"SELECT * FROM hanzi_info WHERE hanzi_index = ?\", (hanzi_index,))\n",
    "        row = cursor.fetchone()\n",
    "        if row is None:\n",
    "            return None\n",
    "        else:\n",
    "            return Hanzi(hanzi=row[0], raw_frequency=row[1], pinyin=row[2], definition=row[3], stroke_count=row[4], hanzi_index=row[5])\n",
    "    elif isinstance(hanzi_index, list):\n",
    "        cursor.execute(f\"SELECT * FROM hanzi_info WHERE hanzi_index IN ({','.join('?'*len(hanzi_index))})\", hanzi_index)\n",
    "        rows = cursor.fetchall()\n",
    "        if len(rows) == 0:\n",
    "            return None\n",
    "        else:\n",
    "            return [Hanzi(hanzi=row[0], raw_frequency=row[1], pinyin=row[2], definition=row[3], stroke_count=row[4], hanzi_index=row[5]) for row in rows]\n",
    "    else:\n",
    "        raise TypeError(f\"hanzi_index must be an integer or a list of integers, not {type(hanzi_index).__name__}\")\n"
   ]
  },
  {
   "cell_type": "code",
   "execution_count": 145,
   "metadata": {},
   "outputs": [],
   "source": [
    "sample_char =  get_hanzi_by_index(conn,hanzi_index=[1005072,1003000])"
   ]
  },
  {
   "cell_type": "code",
   "execution_count": 146,
   "metadata": {},
   "outputs": [
    {
     "data": {
      "text/plain": [
       "[<__main__.Hanzi at 0x7fcbe3694460>, <__main__.Hanzi at 0x7fcbe3655630>]"
      ]
     },
     "execution_count": 146,
     "metadata": {},
     "output_type": "execute_result"
    }
   ],
   "source": [
    "sample_char"
   ]
  },
  {
   "cell_type": "code",
   "execution_count": 147,
   "metadata": {},
   "outputs": [],
   "source": [
    "table_name = 'radicals'"
   ]
  },
  {
   "cell_type": "code",
   "execution_count": 148,
   "metadata": {},
   "outputs": [],
   "source": [
    "rows_radicals = get_table_schema('radicals')"
   ]
  },
  {
   "cell_type": "code",
   "execution_count": 149,
   "metadata": {},
   "outputs": [
    {
     "name": "stdout",
     "output_type": "stream",
     "text": [
      "[(0, 'radical_number', 'INTEGER', 0, None, 0), (1, 'radical', 'TEXT', 0, None, 0), (2, 'variants', 'TEXT', 0, None, 0), (3, 'pinyin', 'TEXT', 0, None, 0), (4, 'stroke_count', 'INTEGER', 0, None, 0), (5, 'ucn', 'TEXT', 0, None, 0), (6, 'meaning', 'TEXT', 0, None, 0), (7, 'traditional', 'TEXT', 0, None, 0), (8, 'radical_index', 'INTEGER', 0, None, 0)]\n"
     ]
    }
   ],
   "source": [
    "print(rows_radicals)"
   ]
  },
  {
   "cell_type": "code",
   "execution_count": 150,
   "metadata": {},
   "outputs": [],
   "source": [
    "class Radical:\n",
    "    def __init__(self, radical_number: int, radical: str, variants: str, pinyin: str, stroke_count: int, ucn: str, meaning: str, traditional: str, radical_index: int):\n",
    "        self.radical_number = radical_number\n",
    "        self.radical = radical\n",
    "        self.variants = variants\n",
    "        self.pinyin = pinyin\n",
    "        self.stroke_count = stroke_count\n",
    "        self.ucn = ucn\n",
    "        self.meaning = meaning\n",
    "        self.traditional = traditional\n",
    "        self.radical_index = radical_index\n"
   ]
  },
  {
   "cell_type": "code",
   "execution_count": 151,
   "metadata": {},
   "outputs": [],
   "source": [
    "\n",
    "def get_radical_by_index(conn: sqlite3.Connection, radical_index: int) -> Radical:\n",
    "    cursor = conn.cursor()\n",
    "    cursor.execute(f\"SELECT * FROM radicals WHERE radical_index = ?\", (radical_index,))\n",
    "    row = cursor.fetchone()\n",
    "    if row is None:\n",
    "        return None\n",
    "    else:\n",
    "        return Radical(radical_number=row[0], radical=row[1], variants=row[2], pinyin=row[3], stroke_count=row[4], ucn=row[5], meaning=row[6], traditional=row[7], radical_index=row[8])\n"
   ]
  },
  {
   "attachments": {},
   "cell_type": "markdown",
   "metadata": {},
   "source": [
    "## CE DICT"
   ]
  },
  {
   "cell_type": "code",
   "execution_count": 152,
   "metadata": {},
   "outputs": [
    {
     "data": {
      "text/plain": [
       "['notes',\n",
       " 'hanzi_components',\n",
       " 'hanzi_info',\n",
       " 'radicals',\n",
       " 'ce_dictionary',\n",
       " 'example_sentences',\n",
       " 'cedict_sentences',\n",
       " 'hanzi_cedict']"
      ]
     },
     "execution_count": 152,
     "metadata": {},
     "output_type": "execute_result"
    }
   ],
   "source": [
    "table_idx = -1\n",
    "table_names\n"
   ]
  },
  {
   "cell_type": "code",
   "execution_count": 153,
   "metadata": {},
   "outputs": [
    {
     "data": {
      "text/plain": [
       "[(0, 'index', 'INTEGER', 0, None, 0),\n",
       " (1, 'cedict_index', 'INTEGER', 0, None, 0),\n",
       " (2, 'hanzi_index', 'INTEGER', 0, None, 0)]"
      ]
     },
     "execution_count": 153,
     "metadata": {},
     "output_type": "execute_result"
    }
   ],
   "source": [
    "get_table_schema(table_names[table_idx])"
   ]
  },
  {
   "cell_type": "code",
   "execution_count": null,
   "metadata": {},
   "outputs": [],
   "source": []
  },
  {
   "cell_type": "code",
   "execution_count": 154,
   "metadata": {},
   "outputs": [],
   "source": [
    "class Word:\n",
    "    def __init__(self, traditional: str, simplified: str, pinyin: str, english: str, cedict_index: int):\n",
    "        self.traditional = traditional\n",
    "        self.simplified = simplified\n",
    "        self.pinyin = pinyin\n",
    "        self.english = english\n",
    "        self.cedict_index = cedict_index\n"
   ]
  },
  {
   "cell_type": "code",
   "execution_count": 155,
   "metadata": {},
   "outputs": [],
   "source": [
    "import sqlite3\n",
    "\n",
    "def get_cedict_by_index(conn: sqlite3.Connection, cedict_index: int) -> Word:\n",
    "    cursor = conn.cursor()\n",
    "    cursor.execute(f\"SELECT * FROM ce_dict WHERE cedict_index = ?\", (cedict_index,))\n",
    "    row = cursor.fetchone()\n",
    "    if row is None: \n",
    "        return None\n",
    "    else:\n",
    "        return Word(traditional=row[0], simplified=row[1], pinyin=row[2], english=row[3], cedict_index=row[4])\n",
    "    \n",
    "\n",
    "def search_cedict_by_simplified(conn: sqlite3.Connection, search_str: str) -> List[Word]:\n",
    "    cursor = conn.cursor()\n",
    "    query = f\"SELECT * FROM ce_dict WHERE simplified LIKE '%' || ? || '%'\"\n",
    "    cursor.execute(query, (search_str,))\n",
    "    rows = cursor.fetchall()\n",
    "    if len(rows) == 0:\n",
    "        return None\n",
    "    else:\n",
    "        return [Word(traditional=row[0], simplified=row[1], pinyin=row[2], english=row[3], cedict_index=row[4]) for row in rows]\n",
    "\n",
    "\n",
    "def search_cedict_by_pinyin(conn: sqlite3.Connection, search_str: str) -> List[Word]:\n",
    "    cursor = conn.cursor()\n",
    "    query = f\"SELECT * FROM ce_dict WHERE pinyin LIKE '%' || ? || '%'\"\n",
    "    cursor.execute(query, (search_str,))\n",
    "    rows = cursor.fetchall()\n",
    "    if len(rows) == 0:\n",
    "        return None\n",
    "    else:\n",
    "        return [Word(traditional=row[0], simplified=row[1], pinyin=row[2], english=row[3], cedict_index=row[4]) for row in rows]\n",
    "\n",
    "\n",
    "import sqlite3\n",
    "from typing import List\n",
    "\n",
    "def search_cedict_by_english_definition(conn: sqlite3.Connection, search_str: str) -> List[Word]:\n",
    "    cursor = conn.cursor()\n",
    "    query = f\"SELECT * FROM ce_dict WHERE english LIKE '%' || ? || '%'\"\n",
    "    cursor.execute(query, (search_str,))\n",
    "    rows = cursor.fetchall()\n",
    "    if len(rows) == 0:\n",
    "        return None\n",
    "    else:\n",
    "        return [Word (traditional=row[0], simplified=row[1], pinyin=row[2], english=row[3], cedict_index=row[4]) for row in rows]\n"
   ]
  },
  {
   "attachments": {},
   "cell_type": "markdown",
   "metadata": {},
   "source": [
    "## Example Sentences"
   ]
  },
  {
   "cell_type": "code",
   "execution_count": 156,
   "metadata": {},
   "outputs": [
    {
     "data": {
      "text/plain": [
       "['notes',\n",
       " 'hanzi_components',\n",
       " 'hanzi_info',\n",
       " 'radicals',\n",
       " 'ce_dictionary',\n",
       " 'example_sentences',\n",
       " 'cedict_sentences',\n",
       " 'hanzi_cedict']"
      ]
     },
     "execution_count": 156,
     "metadata": {},
     "output_type": "execute_result"
    }
   ],
   "source": [
    "table_names"
   ]
  },
  {
   "cell_type": "code",
   "execution_count": 157,
   "metadata": {},
   "outputs": [
    {
     "data": {
      "text/plain": [
       "[(0, 'Characters', 'TEXT', 0, None, 0),\n",
       " (1, 'Pinyin', 'TEXT', 0, None, 0),\n",
       " (2, 'Meaning', 'TEXT', 0, None, 0),\n",
       " (3, 'HSK average', 'REAL', 0, None, 0),\n",
       " (4, 'Custom Ratio', 'REAL', 0, None, 0),\n",
       " (5, 'sentence_index', 'INTEGER', 0, None, 0)]"
      ]
     },
     "execution_count": 157,
     "metadata": {},
     "output_type": "execute_result"
    }
   ],
   "source": [
    "get_table_schema('example_sentences')"
   ]
  },
  {
   "cell_type": "code",
   "execution_count": 158,
   "metadata": {},
   "outputs": [],
   "source": [
    "class ExampleSentence:\n",
    "    def __init__(self, characters: str, pinyin: str, meaning: str, hsk_average: float, custom_ratio: float, sentence_index: int):\n",
    "        self.characters = characters\n",
    "        self.pinyin = pinyin\n",
    "        self.meaning = meaning\n",
    "        self.hsk_average = hsk_average\n",
    "        self.custom_ratio = custom_ratio\n",
    "        self.sentence_index = sentence_index\n"
   ]
  },
  {
   "cell_type": "code",
   "execution_count": null,
   "metadata": {},
   "outputs": [],
   "source": [
    "\n"
   ]
  },
  {
   "cell_type": "code",
   "execution_count": 159,
   "metadata": {},
   "outputs": [],
   "source": [
    "import sqlite3\n",
    "from typing import List\n",
    "\n",
    "def get_sentences_by_word_indices(conn: sqlite3.Connection, sentence_indices: List[int]) -> List[ExampleSentence]:\n",
    "    cursor = conn.cursor()\n",
    "    query = f\"SELECT * FROM example_sentence WHERE sentence_index IN ({','.join(['?']*len(sentence_indices))})\"\n",
    "    cursor.execute(query, sentence_indices)\n",
    "    rows = cursor.fetchall()\n",
    "    if len(rows) == 0:\n",
    "        return None\n",
    "    else:\n",
    "        return [ExampleSentence(characters=row[0], pinyin=row[1], meaning=row[2], hsk_average=row[3], custom_ratio=row[4], sentence_index=row[5]) for row in rows]\n"
   ]
  },
  {
   "attachments": {},
   "cell_type": "markdown",
   "metadata": {},
   "source": [
    "Hanzi Components"
   ]
  },
  {
   "cell_type": "code",
   "execution_count": 160,
   "metadata": {},
   "outputs": [
    {
     "data": {
      "text/plain": [
       "[(0, 'index', 'INTEGER', 0, None, 0),\n",
       " (1, 'hanzi_index', 'INTEGER', 0, None, 0),\n",
       " (2, 'component', 'TEXT', 0, None, 0),\n",
       " (3, 'position', 'INTEGER', 0, None, 0)]"
      ]
     },
     "execution_count": 160,
     "metadata": {},
     "output_type": "execute_result"
    }
   ],
   "source": [
    "get_table_schema('hanzi_components')"
   ]
  },
  {
   "cell_type": "code",
   "execution_count": 161,
   "metadata": {},
   "outputs": [],
   "source": [
    "class HanziComponent:\n",
    "    def __init__(self, index: int, hanzi_index: int, component: str, position: int):\n",
    "        self.index = index\n",
    "        self.hanzi_index = hanzi_index\n",
    "        self.component = component\n",
    "        self.position = position\n"
   ]
  },
  {
   "cell_type": "code",
   "execution_count": 162,
   "metadata": {},
   "outputs": [],
   "source": [
    "import sqlite3\n",
    "from typing import List\n",
    "\n",
    "def get_components_by_hanzi_index(conn: sqlite3.Connection, hanzi_index: int) -> List[HanziComponent]:\n",
    "    cursor = conn.cursor()\n",
    "    cursor.execute(f\"SELECT * FROM hanzi_components WHERE hanzi_index = ?\", (hanzi_index,))\n",
    "    rows = cursor.fetchall()\n",
    "    if len(rows) == 0:\n",
    "        return None\n",
    "    else:\n",
    "        return [HanziComponent(index=row[0], hanzi_index=row[1], component=row[2], position=row[3]) for row in rows]\n"
   ]
  },
  {
   "cell_type": "code",
   "execution_count": 163,
   "metadata": {},
   "outputs": [],
   "source": [
    "import sqlite3\n",
    "from typing import List\n",
    "\n",
    "def get_hanzi_by_cedict_index(conn: sqlite3.Connection, cedict_index: int) -> List[Hanzi]:\n",
    "    cursor = conn.cursor()\n",
    "    cursor.execute(f\"SELECT hanzi_index FROM hanzi_cedict WHERE cedict_index = ?\", (cedict_index,))\n",
    "    rows = cursor.fetchall()\n",
    "    if len(rows) == 0:\n",
    "        return None\n",
    "    else:\n",
    "        hanzi_indices = [row[0] for row in rows]\n",
    "        return [get_hanzi_by_index(conn, index) for index in hanzi_indices]\n"
   ]
  },
  {
   "cell_type": "code",
   "execution_count": 164,
   "metadata": {},
   "outputs": [],
   "source": [
    "charlist =  get_hanzi_by_cedict_index(conn,2105610)"
   ]
  },
  {
   "cell_type": "code",
   "execution_count": 173,
   "metadata": {},
   "outputs": [],
   "source": [
    "hanziTest = charlist[0]\n"
   ]
  },
  {
   "cell_type": "code",
   "execution_count": 166,
   "metadata": {},
   "outputs": [],
   "source": [
    "import sqlite3\n",
    "\n",
    "\n",
    "def query_ce_dictionary_by_hanzi_index(cursor, hanzi):\n",
    "    # Define the SQL query as an f-string\n",
    "    query = f\"SELECT DISTINCT traditional, simplified, pinyin, english, cedict_index FROM ce_dictionary \" \\\n",
    "            f\"INNER JOIN hanzi_cedict ON ce_dictionary.cedict_index = hanzi_cedict.cedict_index \" \\\n",
    "            f\"INNER JOIN hanzi_info ON hanzi_cedict.hanzi_index = hanzi_info.hanzi_index \" \\\n",
    "            f\"WHERE hanzi_info.hanzi_index = {hanzi.hanzi_index}\"\n",
    "\n",
    "    # Execute the query\n",
    "    cursor.execute(query)\n",
    "\n",
    "    # Fetch the results\n",
    "    results = cursor.fetchall()\n",
    "\n",
    "    # Return the results\n",
    "    return results\n"
   ]
  },
  {
   "cell_type": "code",
   "execution_count": 196,
   "metadata": {},
   "outputs": [],
   "source": [
    "def query_ce_dictionary_by_hanzi_index(cursor, hanzi):\n",
    "\n",
    "\tquery = \"\"\" SELECT \n",
    "\t\t\t\"\"\"\n",
    "\n",
    "\tquery = f\"\"\" \n",
    "\t\tSELECT ce_dictionary.traditional, ce_dictionary.simplified, ce_dictionary.pinyin, ce_dictionary.english\n",
    "\t\tFROM ce_dictionary\n",
    "\t\tINNER JOIN hanzi_cedict ON ce_dictionary.index = hanzi_cedict.cedict_index\n",
    "\t\tWHERE hanzi_info.hanzi_index = {hanzi.hanzi_index};\n",
    "\t\t\"\"\"\n",
    "\tcursor.execute(query)\n",
    "\trows = cursor.fetchall()\n",
    "\n",
    "\tif len(rows) == 0:\n",
    "\t    return None\n",
    "\telse:\n",
    "\t    return [Word(traditional=row[0], simplified=row[1], pinyin=row[2], english=row[3]) for row in rows]"
   ]
  },
  {
   "cell_type": "code",
   "execution_count": 197,
   "metadata": {},
   "outputs": [
    {
     "ename": "OperationalError",
     "evalue": "near \"index\": syntax error",
     "output_type": "error",
     "traceback": [
      "\u001b[0;31m---------------------------------------------------------------------------\u001b[0m",
      "\u001b[0;31mOperationalError\u001b[0m                          Traceback (most recent call last)",
      "\u001b[1;32m/home/jentlejames/Projects/Data/ccrsApp/backend/nb/adapters/database.ipynb Cell 39\u001b[0m in \u001b[0;36m<cell line: 1>\u001b[0;34m()\u001b[0m\n\u001b[0;32m----> <a href='vscode-notebook-cell:/home/jentlejames/Projects/Data/ccrsApp/backend/nb/adapters/database.ipynb#Y101sZmlsZQ%3D%3D?line=0'>1</a>\u001b[0m query_ce_dictionary_by_hanzi_index(conn,hanziTest)\n",
      "\u001b[1;32m/home/jentlejames/Projects/Data/ccrsApp/backend/nb/adapters/database.ipynb Cell 39\u001b[0m in \u001b[0;36mquery_ce_dictionary_by_hanzi_index\u001b[0;34m(cursor, hanzi)\u001b[0m\n\u001b[1;32m      <a href='vscode-notebook-cell:/home/jentlejames/Projects/Data/ccrsApp/backend/nb/adapters/database.ipynb#Y101sZmlsZQ%3D%3D?line=0'>1</a>\u001b[0m \u001b[39mdef\u001b[39;00m \u001b[39mquery_ce_dictionary_by_hanzi_index\u001b[39m(cursor, hanzi):\n\u001b[1;32m      <a href='vscode-notebook-cell:/home/jentlejames/Projects/Data/ccrsApp/backend/nb/adapters/database.ipynb#Y101sZmlsZQ%3D%3D?line=2'>3</a>\u001b[0m \tquery \u001b[39m=\u001b[39m \u001b[39mf\u001b[39m\u001b[39m\"\"\"\u001b[39m\u001b[39m \u001b[39m\n\u001b[1;32m      <a href='vscode-notebook-cell:/home/jentlejames/Projects/Data/ccrsApp/backend/nb/adapters/database.ipynb#Y101sZmlsZQ%3D%3D?line=3'>4</a>\u001b[0m \u001b[39m\t\tSELECT ce_dictionary.traditional, ce_dictionary.simplified, ce_dictionary.pinyin, ce_dictionary.english\u001b[39m\n\u001b[1;32m      <a href='vscode-notebook-cell:/home/jentlejames/Projects/Data/ccrsApp/backend/nb/adapters/database.ipynb#Y101sZmlsZQ%3D%3D?line=4'>5</a>\u001b[0m \u001b[39m\t\tFROM ce_dictionary\u001b[39m\n\u001b[1;32m      <a href='vscode-notebook-cell:/home/jentlejames/Projects/Data/ccrsApp/backend/nb/adapters/database.ipynb#Y101sZmlsZQ%3D%3D?line=5'>6</a>\u001b[0m \u001b[39m\t\tINNER JOIN hanzi_cedict ON ce_dictionary.index = hanzi_cedict.cedict_index\u001b[39m\n\u001b[1;32m      <a href='vscode-notebook-cell:/home/jentlejames/Projects/Data/ccrsApp/backend/nb/adapters/database.ipynb#Y101sZmlsZQ%3D%3D?line=6'>7</a>\u001b[0m \u001b[39m\t\tWHERE hanzi_info.hanzi_index = \u001b[39m\u001b[39m{\u001b[39;00mhanzi\u001b[39m.\u001b[39mhanzi_index\u001b[39m}\u001b[39;00m\u001b[39m;\u001b[39m\n\u001b[1;32m      <a href='vscode-notebook-cell:/home/jentlejames/Projects/Data/ccrsApp/backend/nb/adapters/database.ipynb#Y101sZmlsZQ%3D%3D?line=7'>8</a>\u001b[0m \u001b[39m\t\t\u001b[39m\u001b[39m\"\"\"\u001b[39m\n\u001b[0;32m----> <a href='vscode-notebook-cell:/home/jentlejames/Projects/Data/ccrsApp/backend/nb/adapters/database.ipynb#Y101sZmlsZQ%3D%3D?line=8'>9</a>\u001b[0m \tcursor\u001b[39m.\u001b[39;49mexecute(query)\n\u001b[1;32m     <a href='vscode-notebook-cell:/home/jentlejames/Projects/Data/ccrsApp/backend/nb/adapters/database.ipynb#Y101sZmlsZQ%3D%3D?line=9'>10</a>\u001b[0m \trows \u001b[39m=\u001b[39m cursor\u001b[39m.\u001b[39mfetchall()\n\u001b[1;32m     <a href='vscode-notebook-cell:/home/jentlejames/Projects/Data/ccrsApp/backend/nb/adapters/database.ipynb#Y101sZmlsZQ%3D%3D?line=11'>12</a>\u001b[0m \t\u001b[39mif\u001b[39;00m \u001b[39mlen\u001b[39m(rows) \u001b[39m==\u001b[39m \u001b[39m0\u001b[39m:\n",
      "\u001b[0;31mOperationalError\u001b[0m: near \"index\": syntax error"
     ]
    }
   ],
   "source": [
    "query_ce_dictionary_by_hanzi_index(conn,hanziTest)"
   ]
  },
  {
   "cell_type": "code",
   "execution_count": 177,
   "metadata": {},
   "outputs": [
    {
     "ename": "AttributeError",
     "evalue": "'sqlite3.Connection' object has no attribute 'fetchall'",
     "output_type": "error",
     "traceback": [
      "\u001b[0;31m---------------------------------------------------------------------------\u001b[0m",
      "\u001b[0;31mAttributeError\u001b[0m                            Traceback (most recent call last)",
      "\u001b[1;32m/home/jentlejames/Projects/Data/ccrsApp/backend/nb/adapters/database.ipynb Cell 40\u001b[0m in \u001b[0;36m<cell line: 1>\u001b[0;34m()\u001b[0m\n\u001b[0;32m----> <a href='vscode-notebook-cell:/home/jentlejames/Projects/Data/ccrsApp/backend/nb/adapters/database.ipynb#X65sZmlsZQ%3D%3D?line=0'>1</a>\u001b[0m query_ce_dictionary_by_hanzi_index(conn,hanziTest)\n",
      "\u001b[1;32m/home/jentlejames/Projects/Data/ccrsApp/backend/nb/adapters/database.ipynb Cell 40\u001b[0m in \u001b[0;36mquery_ce_dictionary_by_hanzi_index\u001b[0;34m(cursor, hanzi)\u001b[0m\n\u001b[1;32m     <a href='vscode-notebook-cell:/home/jentlejames/Projects/Data/ccrsApp/backend/nb/adapters/database.ipynb#X65sZmlsZQ%3D%3D?line=12'>13</a>\u001b[0m cursor\u001b[39m.\u001b[39mexecute(query)\n\u001b[1;32m     <a href='vscode-notebook-cell:/home/jentlejames/Projects/Data/ccrsApp/backend/nb/adapters/database.ipynb#X65sZmlsZQ%3D%3D?line=14'>15</a>\u001b[0m \u001b[39m# Fetch the results\u001b[39;00m\n\u001b[0;32m---> <a href='vscode-notebook-cell:/home/jentlejames/Projects/Data/ccrsApp/backend/nb/adapters/database.ipynb#X65sZmlsZQ%3D%3D?line=15'>16</a>\u001b[0m rows \u001b[39m=\u001b[39m cursor\u001b[39m.\u001b[39;49mfetchall()\n\u001b[1;32m     <a href='vscode-notebook-cell:/home/jentlejames/Projects/Data/ccrsApp/backend/nb/adapters/database.ipynb#X65sZmlsZQ%3D%3D?line=17'>18</a>\u001b[0m \u001b[39m# Check for errors\u001b[39;00m\n\u001b[1;32m     <a href='vscode-notebook-cell:/home/jentlejames/Projects/Data/ccrsApp/backend/nb/adapters/database.ipynb#X65sZmlsZQ%3D%3D?line=18'>19</a>\u001b[0m \u001b[39mif\u001b[39;00m \u001b[39mlen\u001b[39m(rows) \u001b[39m==\u001b[39m \u001b[39m0\u001b[39m:\n",
      "\u001b[0;31mAttributeError\u001b[0m: 'sqlite3.Connection' object has no attribute 'fetchall'"
     ]
    }
   ],
   "source": [
    "query_ce_dictionary_by_hanzi_index(conn,hanziTest)"
   ]
  },
  {
   "cell_type": "code",
   "execution_count": 168,
   "metadata": {},
   "outputs": [
    {
     "ename": "SyntaxError",
     "evalue": "invalid syntax (497087519.py, line 15)",
     "output_type": "error",
     "traceback": [
      "\u001b[0;36m  Input \u001b[0;32mIn [168]\u001b[0;36m\u001b[0m\n\u001b[0;31m    else:OperationalError: ambiguous column name: ce_dictionary.traditional\u001b[0m\n\u001b[0m                                     ^\u001b[0m\n\u001b[0;31mSyntaxError\u001b[0m\u001b[0;31m:\u001b[0m invalid syntax\n"
     ]
    }
   ],
   "source": [
    "\n",
    "def get_cedict_by_hanzi(conn: sqlite3.Connection, hanzi_list: List[Hanzi]) -> List[Word]:\n",
    "    cursor = conn.cursor()\n",
    "    #query = f\"SELECT * FROM ce_dictionary WHERE simplified IN ({','.join(['?']*len(hanzi_list))}) OR traditional IN ({','.join(['?']*len(hanzi_list))})\"\n",
    "    query = f\"\"\"\n",
    "    SELECT ce_dictionary.*\n",
    "    FROM hanzi_cedict\n",
    "    JOIN ce_dictionary ON hanzi_cedict.cedict_index = ce_dictionary.cedict_index\n",
    "    WHERE hanzi_cedict.hanzi_index IN ({','.join(['?']*len(hanzi_list))})\n",
    "    \"\"\"\n",
    "    hanzi_characters = [hanzi.hanzi for hanzi in hanzi_list]\n",
    "    cursor.execute(query, hanzi_characters + hanzi_characters)\n",
    "    rows = cursor.fetchall()\n",
    "    if len(rows) == 0:\n",
    "        return None\n",
    "    else:OperationalError: ambiguous column name: ce_dictionary.traditional\n",
    "\n",
    "        return [Word(traditional=row[0], simplified=row[1], pinyin=row[2], english=row[3], cedict_index=row[4]) for row in rows]\n"
   ]
  },
  {
   "cell_type": "code",
   "execution_count": 139,
   "metadata": {},
   "outputs": [
    {
     "name": "stdout",
     "output_type": "stream",
     "text": [
      "边\n",
      "边\n",
      "陲\n"
     ]
    }
   ],
   "source": [
    "for wrd in shared_words:\n",
    "    print(wrd.simplified)"
   ]
  },
  {
   "cell_type": "code",
   "execution_count": 140,
   "metadata": {},
   "outputs": [
    {
     "data": {
      "text/plain": [
       "[(0, 'index', 'INTEGER', 0, None, 0),\n",
       " (1, 'cedict_index', 'INTEGER', 0, None, 0),\n",
       " (2, 'hanzi_index', 'INTEGER', 0, None, 0)]"
      ]
     },
     "execution_count": 140,
     "metadata": {},
     "output_type": "execute_result"
    }
   ],
   "source": [
    "get_table_schema('hanzi_cedict')"
   ]
  },
  {
   "cell_type": "code",
   "execution_count": 219,
   "metadata": {},
   "outputs": [],
   "source": [
    "def get_cedict_by_hanzi(cursor, hanzi):\n",
    "    \n",
    "\tquery = f\"\"\"\n",
    "\tSELECT ce_dictionary.traditional, ce_dictionary.simplified, ce_dictionary.pinyin, ce_dictionary.english\n",
    "\tFROM ce_dictionary INNER JOIN hanzi_cedict\n",
    "\t\tON ce_dictionary = hanzi_cedect.cedict_index\n",
    "\tWHERE hanzi_cedict.hanzi_index = {hanzi.hanzi_index};\n",
    "\t\"\"\"\n",
    "\t\n",
    "\tcursor.execute(query)\n",
    "\n",
    "\trows = cursor.fetchall()\n",
    "\n",
    "\treturn rows"
   ]
  },
  {
   "cell_type": "code",
   "execution_count": 220,
   "metadata": {},
   "outputs": [
    {
     "ename": "OperationalError",
     "evalue": "near \"index\": syntax error",
     "output_type": "error",
     "traceback": [
      "\u001b[0;31m---------------------------------------------------------------------------\u001b[0m",
      "\u001b[0;31mOperationalError\u001b[0m                          Traceback (most recent call last)",
      "\u001b[1;32m/home/jentlejames/Projects/Data/ccrsApp/backend/nb/adapters/database.ipynb Cell 45\u001b[0m in \u001b[0;36m<cell line: 1>\u001b[0;34m()\u001b[0m\n\u001b[0;32m----> <a href='vscode-notebook-cell:/home/jentlejames/Projects/Data/ccrsApp/backend/nb/adapters/database.ipynb#Y102sZmlsZQ%3D%3D?line=0'>1</a>\u001b[0m get_cedict_by_hanzi(conn,hanziTest)\n",
      "\u001b[1;32m/home/jentlejames/Projects/Data/ccrsApp/backend/nb/adapters/database.ipynb Cell 45\u001b[0m in \u001b[0;36mget_cedict_by_hanzi\u001b[0;34m(cursor, hanzi)\u001b[0m\n\u001b[1;32m      <a href='vscode-notebook-cell:/home/jentlejames/Projects/Data/ccrsApp/backend/nb/adapters/database.ipynb#Y102sZmlsZQ%3D%3D?line=0'>1</a>\u001b[0m \u001b[39mdef\u001b[39;00m \u001b[39mget_cedict_by_hanzi\u001b[39m(cursor, hanzi):\n\u001b[1;32m      <a href='vscode-notebook-cell:/home/jentlejames/Projects/Data/ccrsApp/backend/nb/adapters/database.ipynb#Y102sZmlsZQ%3D%3D?line=2'>3</a>\u001b[0m \tquery \u001b[39m=\u001b[39m \u001b[39mf\u001b[39m\u001b[39m\"\"\"\u001b[39m\n\u001b[1;32m      <a href='vscode-notebook-cell:/home/jentlejames/Projects/Data/ccrsApp/backend/nb/adapters/database.ipynb#Y102sZmlsZQ%3D%3D?line=3'>4</a>\u001b[0m \u001b[39m\tSELECT ce_dictionary.traditional, ce_dictionary.simplified, ce_dictionary.pinyin, ce_dictionary.english\u001b[39m\n\u001b[1;32m      <a href='vscode-notebook-cell:/home/jentlejames/Projects/Data/ccrsApp/backend/nb/adapters/database.ipynb#Y102sZmlsZQ%3D%3D?line=4'>5</a>\u001b[0m \u001b[39m\tFROM ce_dictionary INNER JOIN hanzi_cedict\u001b[39m\n\u001b[1;32m      <a href='vscode-notebook-cell:/home/jentlejames/Projects/Data/ccrsApp/backend/nb/adapters/database.ipynb#Y102sZmlsZQ%3D%3D?line=5'>6</a>\u001b[0m \u001b[39m\t\tON ce_dictionary.index = hanzi_cedect.cedict_index\u001b[39m\n\u001b[1;32m      <a href='vscode-notebook-cell:/home/jentlejames/Projects/Data/ccrsApp/backend/nb/adapters/database.ipynb#Y102sZmlsZQ%3D%3D?line=6'>7</a>\u001b[0m \u001b[39m\tWHERE hanzi_cedict.hanzi_index = \u001b[39m\u001b[39m{\u001b[39;00mhanzi\u001b[39m.\u001b[39mhanzi_index\u001b[39m}\u001b[39;00m\u001b[39m;\u001b[39m\n\u001b[1;32m      <a href='vscode-notebook-cell:/home/jentlejames/Projects/Data/ccrsApp/backend/nb/adapters/database.ipynb#Y102sZmlsZQ%3D%3D?line=7'>8</a>\u001b[0m \u001b[39m\t\u001b[39m\u001b[39m\"\"\"\u001b[39m\n\u001b[0;32m---> <a href='vscode-notebook-cell:/home/jentlejames/Projects/Data/ccrsApp/backend/nb/adapters/database.ipynb#Y102sZmlsZQ%3D%3D?line=9'>10</a>\u001b[0m \tcursor\u001b[39m.\u001b[39;49mexecute(query)\n\u001b[1;32m     <a href='vscode-notebook-cell:/home/jentlejames/Projects/Data/ccrsApp/backend/nb/adapters/database.ipynb#Y102sZmlsZQ%3D%3D?line=11'>12</a>\u001b[0m \trows \u001b[39m=\u001b[39m cursor\u001b[39m.\u001b[39mfetchall()\n\u001b[1;32m     <a href='vscode-notebook-cell:/home/jentlejames/Projects/Data/ccrsApp/backend/nb/adapters/database.ipynb#Y102sZmlsZQ%3D%3D?line=13'>14</a>\u001b[0m \t\u001b[39mreturn\u001b[39;00m rows\n",
      "\u001b[0;31mOperationalError\u001b[0m: near \"index\": syntax error"
     ]
    }
   ],
   "source": [
    "get_cedict_by_hanzi(conn,hanziTest)"
   ]
  },
  {
   "cell_type": "code",
   "execution_count": null,
   "metadata": {},
   "outputs": [],
   "source": []
  }
 ],
 "metadata": {
  "kernelspec": {
   "display_name": "ChineseAutomation",
   "language": "python",
   "name": "python3"
  },
  "language_info": {
   "codemirror_mode": {
    "name": "ipython",
    "version": 3
   },
   "file_extension": ".py",
   "mimetype": "text/x-python",
   "name": "python",
   "nbconvert_exporter": "python",
   "pygments_lexer": "ipython3",
   "version": "3.10.6"
  },
  "orig_nbformat": 4
 },
 "nbformat": 4,
 "nbformat_minor": 2
}
